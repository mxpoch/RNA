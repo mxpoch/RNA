{
 "cells": [
  {
   "cell_type": "code",
   "execution_count": 44,
   "metadata": {},
   "outputs": [],
   "source": [
    "def recursive(depth:int, mx:int):\n",
    "    if depth == mx: return \n",
    "    for i in range(depth):\n",
    "        # print(' '*depth, '*')\n",
    "        recursive(depth+1, mx)"
   ]
  },
  {
   "cell_type": "code",
   "execution_count": 45,
   "metadata": {},
   "outputs": [],
   "source": [
    "recursive(1,9)"
   ]
  },
  {
   "cell_type": "code",
   "execution_count": 47,
   "metadata": {},
   "outputs": [],
   "source": [
    "stack = []\n",
    "def iterative(depth:int, mx:int):\n",
    "    # value, loop index\n",
    "    stack.append([depth, 1])\n",
    "    while len(stack) > 0:\n",
    "        # do stuff\n",
    "        # increment the loop\n",
    "        stack[len(stack)-1][1] += 1\n",
    "        # append new iterator\n",
    "        if stack[len(stack)-1][0] + 1 < mx:\n",
    "            stack.append([stack[len(stack)-1][0]+1, 1])\n",
    "        # remove expired iterator (value < loop counter)\n",
    "        while len(stack) > 0 and stack[len(stack)-1][0] < stack[len(stack)-1][1]: \n",
    "            del stack[len(stack)-1]\n",
    "        "
   ]
  },
  {
   "cell_type": "code",
   "execution_count": 48,
   "metadata": {},
   "outputs": [],
   "source": [
    "iterative(1, 9)"
   ]
  }
 ],
 "metadata": {
  "interpreter": {
   "hash": "5350ad1cc9023786ec4d02309ed412f8cfbc5bc284127c5b79b7289fa466992b"
  },
  "kernelspec": {
   "display_name": "Python 3.9.4 64-bit",
   "name": "python3"
  },
  "language_info": {
   "codemirror_mode": {
    "name": "ipython",
    "version": 3
   },
   "file_extension": ".py",
   "mimetype": "text/x-python",
   "name": "python",
   "nbconvert_exporter": "python",
   "pygments_lexer": "ipython3",
   "version": "3.9.4"
  },
  "orig_nbformat": 4
 },
 "nbformat": 4,
 "nbformat_minor": 2
}
