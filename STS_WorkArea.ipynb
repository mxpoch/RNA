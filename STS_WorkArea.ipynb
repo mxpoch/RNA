{
 "cells": [
  {
   "cell_type": "code",
   "execution_count": 1,
   "metadata": {},
   "outputs": [],
   "source": [
    "import pandas as pd\n",
    "import numpy as np\n",
    "import matplotlib.pyplot as plt \n",
    "from STS_IT import SuffixTreePostProcess, SuffixTreePreProcess, SuffixTreeSearch"
   ]
  },
  {
   "cell_type": "code",
   "execution_count": 2,
   "metadata": {},
   "outputs": [],
   "source": [
    "# formatting\n",
    "# allows for long strings\n",
    "pd.options.display.max_colwidth = 1000\n",
    "pd.set_option('display.max_columns', None)\n",
    "pd.set_option('display.max_rows', None)\n",
    "# disables setting on copy error\n",
    "pd.options.mode.chained_assignment = None  # default='warn'"
   ]
  },
  {
   "cell_type": "code",
   "execution_count": 3,
   "metadata": {},
   "outputs": [],
   "source": [
    "rnaDB = pd.read_pickle(r\"C:\\Users\\Owner\\Desktop\\PySci\\rnaDB.pkl\")\n",
    "target_group = rnaDB[(rnaDB['host'] == 'Homo sapiens') & (rnaDB['nucleotide_completeness'] == 'complete')]"
   ]
  },
  {
   "cell_type": "code",
   "execution_count": null,
   "metadata": {},
   "outputs": [],
   "source": [
    "list(target_group['additional_details'].unique())"
   ]
  },
  {
   "cell_type": "code",
   "execution_count": null,
   "metadata": {},
   "outputs": [],
   "source": [
    "target_group.iloc[296:303]"
   ]
  },
  {
   "cell_type": "code",
   "execution_count": 5,
   "metadata": {},
   "outputs": [
    {
     "name": "stdout",
     "output_type": "stream",
     "text": [
      "rootkey [-1, 'AAA']\n",
      "rootkey [-1, 'AAT']\n",
      "rootkey [-1, 'AAG']\n",
      "rootkey [-1, 'AAC']\n",
      "rootkey [-1, 'ATA']\n",
      "rootkey [-1, 'ATT']\n",
      "rootkey [-1, 'ATG']\n",
      "rootkey [-1, 'ATC']\n",
      "rootkey [-1, 'AGA']\n",
      "rootkey [-1, 'AGT']\n",
      "rootkey [-1, 'AGG']\n",
      "rootkey [-1, 'AGC']\n",
      "rootkey [-1, 'ACA']\n",
      "rootkey [-1, 'ACT']\n",
      "rootkey [-1, 'ACG']\n",
      "rootkey [-1, 'ACC']\n",
      "rootkey [-1, 'TAA']\n",
      "rootkey [-1, 'TAT']\n",
      "rootkey [-1, 'TAG']\n",
      "rootkey [-1, 'TAC']\n",
      "rootkey [-1, 'TTA']\n",
      "rootkey [-1, 'TTT']\n",
      "rootkey [-1, 'TTG']\n",
      "rootkey [-1, 'TTC']\n",
      "rootkey [-1, 'TGA']\n",
      "rootkey [-1, 'TGT']\n",
      "rootkey [-1, 'TGG']\n",
      "rootkey [-1, 'TGC']\n",
      "rootkey [-1, 'TCA']\n",
      "rootkey [-1, 'TCT']\n",
      "rootkey [-1, 'TCG']\n",
      "rootkey [-1, 'TCC']\n",
      "rootkey [-1, 'GAA']\n",
      "rootkey [-1, 'GAT']\n",
      "rootkey [-1, 'GAG']\n",
      "rootkey [-1, 'GAC']\n",
      "rootkey [-1, 'GTA']\n",
      "rootkey [-1, 'GTT']\n",
      "rootkey [-1, 'GTG']\n",
      "rootkey [-1, 'GTC']\n",
      "rootkey [-1, 'GGA']\n",
      "rootkey [-1, 'GGT']\n",
      "rootkey [-1, 'GGG']\n",
      "rootkey [-1, 'GGC']\n",
      "rootkey [-1, 'GCA']\n",
      "rootkey [-1, 'GCT']\n",
      "rootkey [-1, 'GCG']\n",
      "rootkey [-1, 'GCC']\n",
      "rootkey [-1, 'CAA']\n",
      "rootkey [-1, 'CAT']\n",
      "rootkey [-1, 'CAG']\n",
      "rootkey [-1, 'CAC']\n",
      "rootkey [-1, 'CTA']\n",
      "rootkey [-1, 'CTT']\n",
      "rootkey [-1, 'CTG']\n",
      "rootkey [-1, 'CTC']\n",
      "rootkey [-1, 'CGA']\n",
      "rootkey [-1, 'CGT']\n",
      "rootkey [-1, 'CGG']\n",
      "rootkey [-1, 'CGC']\n",
      "rootkey [-1, 'CCA']\n",
      "rootkey [-1, 'CCT']\n",
      "rootkey [-1, 'CCG']\n",
      "rootkey [-1, 'CCC']\n",
      "Wall time: 24min 22s\n"
     ]
    }
   ],
   "source": [
    "%%time\n",
    "# preprocessing dataset for algorithm\n",
    "STPRE = SuffixTreePreProcess(target_group, ['A','T','G','C'])\n",
    "# display(STPRE.DB.head())\n",
    "SEQ, TSEQ = STPRE.generate_sources([x for x in range(296,298)]) \n",
    "RET, SS, CT = STPRE.generate_returns(SEQ)\n",
    "\n",
    "# # processing dataset\n",
    "STS = SuffixTreeSearch(SEQ, RET, SS, CT)\n",
    "STS.find_common(STPRE.codons)\n",
    "STS.cleanse_duplicates()\n",
    "\n",
    "#postprocessing results\n",
    "STPO = SuffixTreePostProcess(RET, SEQ, TSEQ)\n",
    "R, ID = STPO.merge_raw()\n",
    "EXACT = STPO.remove_inexact(ID)\n",
    "STPO.ss_to_json(EXACT, r'D:\\RNA\\JSON-OUTPUT\\UtahEXACT-fixed2')"
   ]
  }
 ],
 "metadata": {
  "interpreter": {
   "hash": "f96efbd20990c9b87154ff1e04974328ba5cd93cb6fdf3bf0ba6a60073362e50"
  },
  "kernelspec": {
   "display_name": "Python 3.9.7 64-bit",
   "name": "python3"
  },
  "language_info": {
   "codemirror_mode": {
    "name": "ipython",
    "version": 3
   },
   "file_extension": ".py",
   "mimetype": "text/x-python",
   "name": "python",
   "nbconvert_exporter": "python",
   "pygments_lexer": "ipython3",
   "version": "3.9.7"
  },
  "orig_nbformat": 4
 },
 "nbformat": 4,
 "nbformat_minor": 2
}
